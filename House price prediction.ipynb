{
 "cells": [
  {
   "cell_type": "markdown",
   "id": "d18a3409-a121-4f5b-874d-7c98b4d3411e",
   "metadata": {},
   "source": [
    "# House Price prediction "
   ]
  },
  {
   "cell_type": "code",
   "execution_count": 2,
   "id": "393d40ad-80e9-448d-8b6c-d3c9e00e11f9",
   "metadata": {},
   "outputs": [
    {
     "data": {
      "text/html": [
       "<div>\n",
       "<style scoped>\n",
       "    .dataframe tbody tr th:only-of-type {\n",
       "        vertical-align: middle;\n",
       "    }\n",
       "\n",
       "    .dataframe tbody tr th {\n",
       "        vertical-align: top;\n",
       "    }\n",
       "\n",
       "    .dataframe thead th {\n",
       "        text-align: right;\n",
       "    }\n",
       "</style>\n",
       "<table border=\"1\" class=\"dataframe\">\n",
       "  <thead>\n",
       "    <tr style=\"text-align: right;\">\n",
       "      <th></th>\n",
       "      <th>price</th>\n",
       "      <th>area</th>\n",
       "      <th>bedrooms</th>\n",
       "      <th>bathrooms</th>\n",
       "      <th>stories</th>\n",
       "      <th>mainroad</th>\n",
       "      <th>guestroom</th>\n",
       "      <th>basement</th>\n",
       "      <th>hotwaterheating</th>\n",
       "      <th>airconditioning</th>\n",
       "      <th>parking</th>\n",
       "      <th>prefarea</th>\n",
       "      <th>furnishingstatus</th>\n",
       "    </tr>\n",
       "  </thead>\n",
       "  <tbody>\n",
       "    <tr>\n",
       "      <th>0</th>\n",
       "      <td>13300000</td>\n",
       "      <td>7420</td>\n",
       "      <td>4</td>\n",
       "      <td>2</td>\n",
       "      <td>3</td>\n",
       "      <td>yes</td>\n",
       "      <td>no</td>\n",
       "      <td>no</td>\n",
       "      <td>no</td>\n",
       "      <td>yes</td>\n",
       "      <td>2</td>\n",
       "      <td>yes</td>\n",
       "      <td>furnished</td>\n",
       "    </tr>\n",
       "    <tr>\n",
       "      <th>1</th>\n",
       "      <td>12250000</td>\n",
       "      <td>8960</td>\n",
       "      <td>4</td>\n",
       "      <td>4</td>\n",
       "      <td>4</td>\n",
       "      <td>yes</td>\n",
       "      <td>no</td>\n",
       "      <td>no</td>\n",
       "      <td>no</td>\n",
       "      <td>yes</td>\n",
       "      <td>3</td>\n",
       "      <td>no</td>\n",
       "      <td>furnished</td>\n",
       "    </tr>\n",
       "    <tr>\n",
       "      <th>2</th>\n",
       "      <td>12250000</td>\n",
       "      <td>9960</td>\n",
       "      <td>3</td>\n",
       "      <td>2</td>\n",
       "      <td>2</td>\n",
       "      <td>yes</td>\n",
       "      <td>no</td>\n",
       "      <td>yes</td>\n",
       "      <td>no</td>\n",
       "      <td>no</td>\n",
       "      <td>2</td>\n",
       "      <td>yes</td>\n",
       "      <td>semi-furnished</td>\n",
       "    </tr>\n",
       "    <tr>\n",
       "      <th>3</th>\n",
       "      <td>12215000</td>\n",
       "      <td>7500</td>\n",
       "      <td>4</td>\n",
       "      <td>2</td>\n",
       "      <td>2</td>\n",
       "      <td>yes</td>\n",
       "      <td>no</td>\n",
       "      <td>yes</td>\n",
       "      <td>no</td>\n",
       "      <td>yes</td>\n",
       "      <td>3</td>\n",
       "      <td>yes</td>\n",
       "      <td>furnished</td>\n",
       "    </tr>\n",
       "    <tr>\n",
       "      <th>4</th>\n",
       "      <td>11410000</td>\n",
       "      <td>7420</td>\n",
       "      <td>4</td>\n",
       "      <td>1</td>\n",
       "      <td>2</td>\n",
       "      <td>yes</td>\n",
       "      <td>yes</td>\n",
       "      <td>yes</td>\n",
       "      <td>no</td>\n",
       "      <td>yes</td>\n",
       "      <td>2</td>\n",
       "      <td>no</td>\n",
       "      <td>furnished</td>\n",
       "    </tr>\n",
       "    <tr>\n",
       "      <th>...</th>\n",
       "      <td>...</td>\n",
       "      <td>...</td>\n",
       "      <td>...</td>\n",
       "      <td>...</td>\n",
       "      <td>...</td>\n",
       "      <td>...</td>\n",
       "      <td>...</td>\n",
       "      <td>...</td>\n",
       "      <td>...</td>\n",
       "      <td>...</td>\n",
       "      <td>...</td>\n",
       "      <td>...</td>\n",
       "      <td>...</td>\n",
       "    </tr>\n",
       "    <tr>\n",
       "      <th>540</th>\n",
       "      <td>1820000</td>\n",
       "      <td>3000</td>\n",
       "      <td>2</td>\n",
       "      <td>1</td>\n",
       "      <td>1</td>\n",
       "      <td>yes</td>\n",
       "      <td>no</td>\n",
       "      <td>yes</td>\n",
       "      <td>no</td>\n",
       "      <td>no</td>\n",
       "      <td>2</td>\n",
       "      <td>no</td>\n",
       "      <td>unfurnished</td>\n",
       "    </tr>\n",
       "    <tr>\n",
       "      <th>541</th>\n",
       "      <td>1767150</td>\n",
       "      <td>2400</td>\n",
       "      <td>3</td>\n",
       "      <td>1</td>\n",
       "      <td>1</td>\n",
       "      <td>no</td>\n",
       "      <td>no</td>\n",
       "      <td>no</td>\n",
       "      <td>no</td>\n",
       "      <td>no</td>\n",
       "      <td>0</td>\n",
       "      <td>no</td>\n",
       "      <td>semi-furnished</td>\n",
       "    </tr>\n",
       "    <tr>\n",
       "      <th>542</th>\n",
       "      <td>1750000</td>\n",
       "      <td>3620</td>\n",
       "      <td>2</td>\n",
       "      <td>1</td>\n",
       "      <td>1</td>\n",
       "      <td>yes</td>\n",
       "      <td>no</td>\n",
       "      <td>no</td>\n",
       "      <td>no</td>\n",
       "      <td>no</td>\n",
       "      <td>0</td>\n",
       "      <td>no</td>\n",
       "      <td>unfurnished</td>\n",
       "    </tr>\n",
       "    <tr>\n",
       "      <th>543</th>\n",
       "      <td>1750000</td>\n",
       "      <td>2910</td>\n",
       "      <td>3</td>\n",
       "      <td>1</td>\n",
       "      <td>1</td>\n",
       "      <td>no</td>\n",
       "      <td>no</td>\n",
       "      <td>no</td>\n",
       "      <td>no</td>\n",
       "      <td>no</td>\n",
       "      <td>0</td>\n",
       "      <td>no</td>\n",
       "      <td>furnished</td>\n",
       "    </tr>\n",
       "    <tr>\n",
       "      <th>544</th>\n",
       "      <td>1750000</td>\n",
       "      <td>3850</td>\n",
       "      <td>3</td>\n",
       "      <td>1</td>\n",
       "      <td>2</td>\n",
       "      <td>yes</td>\n",
       "      <td>no</td>\n",
       "      <td>no</td>\n",
       "      <td>no</td>\n",
       "      <td>no</td>\n",
       "      <td>0</td>\n",
       "      <td>no</td>\n",
       "      <td>unfurnished</td>\n",
       "    </tr>\n",
       "  </tbody>\n",
       "</table>\n",
       "<p>545 rows × 13 columns</p>\n",
       "</div>"
      ],
      "text/plain": [
       "        price  area  bedrooms  bathrooms  stories mainroad guestroom basement  \\\n",
       "0    13300000  7420         4          2        3      yes        no       no   \n",
       "1    12250000  8960         4          4        4      yes        no       no   \n",
       "2    12250000  9960         3          2        2      yes        no      yes   \n",
       "3    12215000  7500         4          2        2      yes        no      yes   \n",
       "4    11410000  7420         4          1        2      yes       yes      yes   \n",
       "..        ...   ...       ...        ...      ...      ...       ...      ...   \n",
       "540   1820000  3000         2          1        1      yes        no      yes   \n",
       "541   1767150  2400         3          1        1       no        no       no   \n",
       "542   1750000  3620         2          1        1      yes        no       no   \n",
       "543   1750000  2910         3          1        1       no        no       no   \n",
       "544   1750000  3850         3          1        2      yes        no       no   \n",
       "\n",
       "    hotwaterheating airconditioning  parking prefarea furnishingstatus  \n",
       "0                no             yes        2      yes        furnished  \n",
       "1                no             yes        3       no        furnished  \n",
       "2                no              no        2      yes   semi-furnished  \n",
       "3                no             yes        3      yes        furnished  \n",
       "4                no             yes        2       no        furnished  \n",
       "..              ...             ...      ...      ...              ...  \n",
       "540              no              no        2       no      unfurnished  \n",
       "541              no              no        0       no   semi-furnished  \n",
       "542              no              no        0       no      unfurnished  \n",
       "543              no              no        0       no        furnished  \n",
       "544              no              no        0       no      unfurnished  \n",
       "\n",
       "[545 rows x 13 columns]"
      ]
     },
     "execution_count": 2,
     "metadata": {},
     "output_type": "execute_result"
    }
   ],
   "source": [
    "import pandas as pd\n",
    "df=pd.read_csv(\"C:/Users/arunj/Downloads/Housing.csv\")\n",
    "df"
   ]
  },
  {
   "cell_type": "markdown",
   "id": "172d6959-0c21-4837-82a3-61a4ef3e1c58",
   "metadata": {},
   "source": [
    "## Data Preprocessing for Linear regression"
   ]
  },
  {
   "cell_type": "code",
   "execution_count": 3,
   "id": "5514c0c5-7f90-49d6-a50c-c1d0daf85749",
   "metadata": {},
   "outputs": [
    {
     "data": {
      "text/plain": [
       "(      price  area  bedrooms  bathrooms  stories  mainroad  guestroom  \\\n",
       " 0  13300000  7420         4          2        3         1          0   \n",
       " 1  12250000  8960         4          4        4         1          0   \n",
       " 2  12250000  9960         3          2        2         1          0   \n",
       " 3  12215000  7500         4          2        2         1          0   \n",
       " 4  11410000  7420         4          1        2         1          1   \n",
       " \n",
       "    basement  hotwaterheating  airconditioning  parking  prefarea  \\\n",
       " 0         0                0                1        2         1   \n",
       " 1         0                0                1        3         0   \n",
       " 2         1                0                0        2         1   \n",
       " 3         1                0                1        3         1   \n",
       " 4         1                0                1        2         0   \n",
       " \n",
       "    furnishingstatus  \n",
       " 0                 0  \n",
       " 1                 0  \n",
       " 2                 1  \n",
       " 3                 0  \n",
       " 4                 0  ,\n",
       " Series([], dtype: int64))"
      ]
     },
     "execution_count": 3,
     "metadata": {},
     "output_type": "execute_result"
    }
   ],
   "source": [
    "from sklearn.preprocessing import LabelEncoder\n",
    "\n",
    "# Make a copy of the original DataFrame\n",
    "df_processed = df.copy()\n",
    "\n",
    "# Identify categorical columns\n",
    "categorical_columns = df_processed.select_dtypes(include='object').columns\n",
    "\n",
    "# Encode categorical variables using LabelEncoder\n",
    "label_encoders = {}\n",
    "for col in categorical_columns:\n",
    "    le = LabelEncoder()\n",
    "    df_processed[col] = le.fit_transform(df_processed[col])\n",
    "    label_encoders[col] = le\n",
    "\n",
    "# Check for missing values\n",
    "missing_values = df_processed.isnull().sum()\n",
    "\n",
    "# Display the processed data and any missing values\n",
    "df_processed.head(), missing_values[missing_values > 0]"
   ]
  },
  {
   "cell_type": "markdown",
   "id": "ba8e9be8-e869-47e1-bead-d9c37d4a05d8",
   "metadata": {},
   "source": [
    "##### - Categorical Encoding: All categorical variables (e.g., mainroad, furnishingstatus) have been encoded numerically using LabelEncoder.\n",
    "##### - Missing Values: There are no missing values in the dataset."
   ]
  },
  {
   "cell_type": "markdown",
   "id": "abd0e4b9-7fa3-48e9-b155-ce4a250e67dd",
   "metadata": {},
   "source": [
    "## Splitting the data into train and test sets"
   ]
  },
  {
   "cell_type": "code",
   "execution_count": 4,
   "id": "ef0903f7-b092-4cc3-b031-d14d78e745a6",
   "metadata": {},
   "outputs": [
    {
     "data": {
      "text/plain": [
       "((436, 12), (109, 12), (436,), (109,))"
      ]
     },
     "execution_count": 4,
     "metadata": {},
     "output_type": "execute_result"
    }
   ],
   "source": [
    "from sklearn.model_selection import train_test_split\n",
    "\n",
    "# Define features (X) and target (y)\n",
    "X = df_processed.drop(\"price\", axis=1)\n",
    "y = df_processed[\"price\"]\n",
    "\n",
    "# Split the dataset: 80% train, 20% test\n",
    "X_train, X_test, y_train, y_test = train_test_split(X, y, test_size=0.2, random_state=42)\n",
    "\n",
    "# Show the shapes of the resulting datasets\n",
    "X_train.shape, X_test.shape, y_train.shape, y_test.shape"
   ]
  },
  {
   "cell_type": "markdown",
   "id": "9a4583d9-5fbb-4342-b7c6-dbd895b3d930",
   "metadata": {},
   "source": [
    "## Fitting a Linear regression model"
   ]
  },
  {
   "cell_type": "code",
   "execution_count": 5,
   "id": "03839573-3818-4ffa-b880-428ee4a30e07",
   "metadata": {},
   "outputs": [],
   "source": [
    "from sklearn.linear_model import LinearRegression\n",
    "model=LinearRegression()\n",
    "model.fit(X_train,y_train)\n",
    "# Predict on the test data\n",
    "y_pred = model.predict(X_test)"
   ]
  },
  {
   "cell_type": "markdown",
   "id": "37a9e3c5-dbb9-4216-992e-97220756210d",
   "metadata": {},
   "source": [
    "## Evaluating Model "
   ]
  },
  {
   "cell_type": "markdown",
   "id": "f1ad38d4-bfe7-42d6-8e14-82e93d0cfcf2",
   "metadata": {},
   "source": [
    "### Mean Absolute error "
   ]
  },
  {
   "cell_type": "code",
   "execution_count": 6,
   "id": "8144c6bb-7946-4b56-8327-50a61071c10f",
   "metadata": {},
   "outputs": [
    {
     "name": "stdout",
     "output_type": "stream",
     "text": [
      "Mean Absolute Error: 979679.6912959905\n"
     ]
    }
   ],
   "source": [
    "# Calculate MAE\n",
    "from sklearn.metrics import mean_absolute_error\n",
    "mae = mean_absolute_error(y_test, y_pred)\n",
    "print(\"Mean Absolute Error:\", mae)"
   ]
  },
  {
   "cell_type": "markdown",
   "id": "b4ff64e8-7489-4d8a-8321-048228fd55b0",
   "metadata": {},
   "source": [
    "### Mean Squared Error"
   ]
  },
  {
   "cell_type": "code",
   "execution_count": 7,
   "id": "b7bc9347-3740-40d0-861b-9bcfe90bca8b",
   "metadata": {},
   "outputs": [
    {
     "name": "stdout",
     "output_type": "stream",
     "text": [
      "Mean Squared Error: 1771751116594.0347\n"
     ]
    }
   ],
   "source": [
    "from sklearn.metrics import mean_squared_error\n",
    "mse=mean_squared_error(y_test, y_pred)\n",
    "print(\"Mean Squared Error:\", mse)"
   ]
  },
  {
   "cell_type": "markdown",
   "id": "15d059d1-56f6-48ab-9c46-3686e776e124",
   "metadata": {},
   "source": [
    "### R-Squared"
   ]
  },
  {
   "cell_type": "code",
   "execution_count": 8,
   "id": "6c67941c-347e-4195-9ae7-54ef62d4576e",
   "metadata": {},
   "outputs": [
    {
     "name": "stdout",
     "output_type": "stream",
     "text": [
      "R-squared: 0.6494754192267804\n"
     ]
    }
   ],
   "source": [
    "from sklearn.metrics import r2_score\n",
    "r2 = r2_score(y_test, y_pred)\n",
    "print(\"R-squared:\", r2)"
   ]
  },
  {
   "cell_type": "markdown",
   "id": "0814e7cc-ccd1-4949-a5c9-79f571d97faa",
   "metadata": {},
   "source": [
    "## Plotting regression line and interpret coefficients"
   ]
  },
  {
   "cell_type": "code",
   "execution_count": 9,
   "id": "25a80737-9b2e-43ea-8113-98fcfec91eab",
   "metadata": {},
   "outputs": [
    {
     "name": "stdout",
     "output_type": "stream",
     "text": [
      "0.area Regression:\n",
      "  Intercept: 2512254.2639593435\n",
      "  Coefficient: 425.72984193878284\n",
      "\n",
      "1.bedrooms Regression:\n",
      "  Intercept: 2123152.259098626\n",
      "  Coefficient: 873140.7403356582\n",
      "\n",
      "2.bathrooms Regression:\n",
      "  Intercept: 2223852.1737923427\n",
      "  Coefficient: 1960953.6091060485\n",
      "\n",
      "3.stories Regression:\n",
      "  Intercept: 3227798.302052974\n",
      "  Coefficient: 829763.0377154488\n",
      "\n",
      "4.mainroad Regression:\n",
      "  Intercept: 3396518.548387098\n",
      "  Coefficient: 1527176.0772813512\n",
      "\n",
      "5.guestroom Regression:\n",
      "  Intercept: 4489843.407821229\n",
      "  Coefficient: 1211207.8742300554\n",
      "\n",
      "6.basement Regression:\n",
      "  Intercept: 4435660.500000001\n",
      "  Coefficient: 757038.217948717\n",
      "\n",
      "7.hotwaterheating Regression:\n",
      "  Intercept: 4676057.826086957\n",
      "  Coefficient: 603851.2648221344\n",
      "\n",
      "8.airconditioning Regression:\n",
      "  Intercept: 4156110.9271523175\n",
      "  Coefficient: 1790907.2818029078\n",
      "\n",
      "9.parking Regression:\n",
      "  Intercept: 4172510.430868446\n",
      "  Coefficient: 778700.3081650757\n",
      "\n",
      "10.prefarea Regression:\n",
      "  Intercept: 4415446.377245509\n",
      "  Coefficient: 1244228.6227544905\n",
      "\n",
      "11.furnishingstatus Regression:\n",
      "  Intercept: 5467302.542902878\n",
      "  Coefficient: -717960.9712243599\n",
      "\n"
     ]
    },
    {
     "data": {
      "image/png": "[encoded data removed]",
      "text/plain": [
       "<Figure size 1000x600 with 1 Axes>"
      ]
     },
     "metadata": {},
     "output_type": "display_data"
    }
   ],
   "source": [
    "import numpy as np\n",
    "import matplotlib.pyplot as plt\n",
    "from sklearn.linear_model import LinearRegression\n",
    "feature_indices = [0,1,2,3,4,5,6,7,8,9,10,11]  # Change to any 3 features you want to plot\n",
    "feature_names = X_train.columns.tolist()  # Get feature names from DataFrame\n",
    "plt.figure(figsize=(10, 6))\n",
    "for feature_index in feature_indices:\n",
    "    # Select the feature for regression\n",
    "    X_feature = X_train.iloc[:, feature_index].values.reshape(-1, 1)  # Use iloc for DataFrame indexing\n",
    "    model = LinearRegression()\n",
    "    model.fit(X_feature, y_train)\n",
    "    # Prepare data range for smooth line plot\n",
    "    X_range = np.linspace(X_feature.min(), X_feature.max(), 100).reshape(-1, 1)\n",
    "    y_pred_line = model.predict(X_range)\n",
    "    # Plot regression line\n",
    "    plt.plot(X_range, y_pred_line)\n",
    "    plt.text(X_range[-1], y_pred_line[-1],feature_index, fontsize=9, ha='left', va='center')\n",
    "    # Scatter plot of training data for this feature\n",
    "    plt.scatter(X_feature, y_train, alpha=0.4)\n",
    "    # Print coefficient and intercept\n",
    "    print(f\"{feature_index}.{feature_names[feature_index]} Regression:\")\n",
    "    print(f\"  Intercept: {model.intercept_}\")\n",
    "    print(f\"  Coefficient: {model.coef_[0]}\\n\")\n",
    "plt.xlabel('Feature Value')\n",
    "plt.ylabel('Target')\n",
    "plt.title('Multiple Linear Regression Lines')\n",
    "plt.grid(True)\n",
    "plt.show()"
   ]
  },
  {
   "cell_type": "markdown",
   "id": "5337b7c3-495a-4ff7-87bc-f7e57fde7b97",
   "metadata": {},
   "source": [
    "## 📊 Feature-by-Feature Relationship Analysis\n",
    "\n",
    "| Feature               | Intercept        | Coefficient        | Interpretation |\n",
    "|-----------------------|------------------|--------------------|----------------|\n",
    "| **area**              | 2,512,254.26     | 425.73             | Positive: More area = higher price. Each unit increase in area adds ~425 units to price. |\n",
    "| **bedrooms**          | 2,123,152.26     | 873,140.74         | Positive: Each additional bedroom significantly increases price (~873,141). |\n",
    "| **bathrooms**         | 2,223,852.17     | 1,960,953.61       | Positive: Bathrooms have a **strong** positive impact on price—each extra bathroom nearly 2M higher. |\n",
    "| **stories**           | 3,227,798.30     | 829,763.04         | Positive: More stories = higher price, adding ~830k each. |\n",
    "| **mainroad**          | 3,396,518.55     | 1,527,176.08       | Positive: Having access to a main road (coded 1) raises price significantly (~1.5M). |\n",
    "| **guestroom**         | 4,489,843.41     | 1,211,207.87       | Positive: Having a guest room adds ~1.2M to the price. |\n",
    "| **basement**          | 4,435,660.50     | 757,038.22         | Positive: Basement presence adds ~757k. |\n",
    "| **hotwaterheating**   | 4,676,057.83     | 603,851.26         | Positive: Adds ~600k to price. |\n",
    "| **airconditioning**   | 4,156,110.93     | 1,790,907.28       | Positive: Air conditioning has a **big** impact (~1.8M). |\n",
    "| **parking**           | 4,172,510.43     | 778,700.31         | Positive: Each additional parking spot adds ~779k. |\n",
    "| **prefarea**          | 4,415,446.38     | 1,244,228.62       | Positive: Preferred area adds ~1.2M. |\n",
    "| **furnishingstatus**  | 5,467,302.54     | -717,960.97        | **Negative**: Higher furnishing status (coded as increasing numbers) **decreases** the price. Possibly due to how encoding assigned values (e.g. 'furnished' = 0, 'semi-furnished' = 1, etc.). |\n",
    "\n",
    "---\n",
    "\n",
    "### 📝 Notes:\n",
    "- ✅ All features except **furnishingstatus** have a **positive** relationship with price.\n",
    "- 🚨 The negative coefficient for furnishingstatus may be due to **label encoding**—consider one-hot encoding for a clearer interpretation.\n",
    "- 📈 Features like **bathrooms, airconditioning, mainroad, and prefarea** show a **strong impact**, which could guide investment priorities.\n"
   ]
  }
 ],
 "metadata": {
  "kernelspec": {
   "display_name": "Python 3 (ipykernel)",
   "language": "python",
   "name": "python3"
  },
  "language_info": {
   "codemirror_mode": {
    "name": "ipython",
    "version": 3
   },
   "file_extension": ".py",
   "mimetype": "text/x-python",
   "name": "python",
   "nbconvert_exporter": "python",
   "pygments_lexer": "ipython3",
   "version": "3.13.0"
  }
 },
 "nbformat": 4,
 "nbformat_minor": 5
}
